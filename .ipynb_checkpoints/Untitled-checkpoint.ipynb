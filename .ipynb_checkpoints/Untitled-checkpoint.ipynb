{
 "cells": [
  {
   "cell_type": "code",
   "execution_count": 9,
   "id": "4ded456c-9fd2-4dee-81ea-94bb5dd12412",
   "metadata": {},
   "outputs": [],
   "source": [
    "# import necessary lib for analysis\n",
    "import json\n",
    "import pandas as pd\n",
    "from rich import print\n",
    "\n",
    "# load file to be analyzed\n",
    "file= 'stats.json'\n",
    "data= None\n",
    "\n",
    "with open(file, 'r') as f:\n",
    "    data= json.load(f)\n",
    "\n",
    "channl_id, stats= data.popitem() #returns a tuple of both key and values of the dict\n",
    "channl_stats= stats['channel_statistics'] #get channel_stats\n",
    "video_stats= stats['video_data'] #get video stats\n",
    " "
   ]
  },
  {
   "cell_type": "code",
   "execution_count": null,
   "id": "1ae85861-1eeb-4d88-959d-13e2b4824566",
   "metadata": {},
   "outputs": [],
   "source": [
    "# channel statisticts\n",
    "print(f'views: {channl_stats['viewCount']}')\n",
    "print(f'subscriber: {channl_stats['subscriberCount']}')\n",
    "print(f'videos: {channl_stats['videoCount']}')"
   ]
  }
 ],
 "metadata": {
  "kernelspec": {
   "display_name": "Python 3 (ipykernel)",
   "language": "python",
   "name": "python3"
  },
  "language_info": {
   "codemirror_mode": {
    "name": "ipython",
    "version": 3
   },
   "file_extension": ".py",
   "mimetype": "text/x-python",
   "name": "python",
   "nbconvert_exporter": "python",
   "pygments_lexer": "ipython3",
   "version": "3.12.3"
  }
 },
 "nbformat": 4,
 "nbformat_minor": 5
}
